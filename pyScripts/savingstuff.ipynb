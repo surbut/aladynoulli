{
 "cells": [
  {
   "cell_type": "code",
   "execution_count": 3,
   "metadata": {},
   "outputs": [
    {
     "name": "stdout",
     "output_type": "stream",
     "text": [
      "The autoreload extension is already loaded. To reload it, use:\n",
      "  %reload_ext autoreload\n",
      "G shape after transposition: (9661, 36)\n"
     ]
    }
   ],
   "source": [
    "import rpy2.robjects as robjects\n",
    "import numpy as np\n",
    "import os as os\n",
    "from rpy2.robjects import numpy2ri\n",
    "import torch\n",
    "import torch.nn as nn\n",
    "import torch.optim as optim\n",
    "import numpy as np\n",
    "from scipy.spatial.distance import pdist, squareform\n",
    "from scipy.special import expit\n",
    "from scipy.stats import multivariate_normal\n",
    "import matplotlib.pyplot as plt\n",
    "\n",
    "\n",
    "%load_ext autoreload\n",
    "%autoreload 2\n",
    "# Specify the path to your data files\n",
    "data_path = \"/Users/sarahurbut/tensornoulli_ehr_new/data\"\n",
    "\n",
    "# Activate automatic conversion between R and NumPy arrays\n",
    "numpy2ri.activate()# Load data saved as .rds files\n",
    "Y = np.array(robjects.r['readRDS'](os.path.join(data_path, 'Y.rds')))\n",
    "E = np.array(robjects.r['readRDS'](os.path.join(data_path, 'event_for_aladynoulli.rds')))\n",
    "G = np.array(robjects.r['readRDS'](os.path.join(data_path, 'prs.rds')))\n",
    "\n",
    "E = E.astype(int)\n",
    "\n",
    "# G should be float64\n",
    "G = G.astype(float)\n",
    "G.shape\n",
    "G = G.T\n",
    "print(\"G shape after transposition:\", G.shape)\n",
    "\n",
    "# Convert to PyTorch tensors\n",
    "Y_tensor = torch.FloatTensor(Y)\n",
    "E_tensor = torch.FloatTensor(E)\n",
    "G_tensor = torch.FloatTensor(G)\n"
   ]
  },
  {
   "cell_type": "code",
   "execution_count": 4,
   "metadata": {},
   "outputs": [
    {
     "name": "stdout",
     "output_type": "stream",
     "text": [
      "Tensor shapes:\n",
      "Y: torch.Size([9661, 348, 51])\n",
      "E: torch.Size([9661, 348])\n",
      "G: torch.Size([9661, 36])\n",
      "Time range: 0 to 50\n",
      "51\n",
      "20\n"
     ]
    }
   ],
   "source": [
    "\n",
    "# Get dimensions\n",
    "N, D, T = Y_tensor.shape\n",
    "P = G_tensor.shape[1]\n",
    "T = int(E_tensor.max() + 1)  # 0-indexed time\n",
    "K = 20  # number of topics\n",
    "\n",
    "# Print shapes to verify\n",
    "print(\"Tensor shapes:\")\n",
    "print(f\"Y: {Y_tensor.shape}\")  # [N, D]\n",
    "print(f\"E: {E_tensor.shape}\")  # [N, D]\n",
    "print(f\"G: {G_tensor.shape}\")  # [N, P]\n",
    "print(f\"Time range: 0 to {T-1}\")\n",
    "print(T)\n",
    "print(K)"
   ]
  },
  {
   "cell_type": "code",
   "execution_count": 5,
   "metadata": {},
   "outputs": [],
   "source": [
    "\n",
    "import rpy2.robjects as robjects\n",
    "import pandas as pd\n",
    "from rpy2.robjects import pandas2ri\n",
    "pandas2ri.activate()\n",
    "\n",
    "# Load the metadata from R\n",
    "disease_names = pd.DataFrame(robjects.r['readRDS']('/Users/sarahurbut/Dropbox (Personal)/disease_names.rds'))\n",
    "prs_names = pd.DataFrame(robjects.r['readRDS']('/Users/sarahurbut/Dropbox (Personal)/prs_names.rds'))\n",
    "disease_names_list = disease_names[0].tolist()"
   ]
  },
  {
   "cell_type": "code",
   "execution_count": 7,
   "metadata": {},
   "outputs": [
    {
     "ename": "RuntimeError",
     "evalue": "File /Y_10k.pt cannot be opened.",
     "output_type": "error",
     "traceback": [
      "\u001b[0;31m---------------------------------------------------------------------------\u001b[0m",
      "\u001b[0;31mRuntimeError\u001b[0m                              Traceback (most recent call last)",
      "Cell \u001b[0;32mIn[7], line 4\u001b[0m\n\u001b[1;32m      2\u001b[0m notebook_dir \u001b[38;5;241m=\u001b[39m os\u001b[38;5;241m.\u001b[39mgetcwd()\n\u001b[1;32m      3\u001b[0m tensor_path \u001b[38;5;241m=\u001b[39m os\u001b[38;5;241m.\u001b[39mpath\u001b[38;5;241m.\u001b[39mjoin(notebook_dir, \u001b[38;5;124m'\u001b[39m\u001b[38;5;124mY_10k.pt\u001b[39m\u001b[38;5;124m'\u001b[39m)\n\u001b[0;32m----> 4\u001b[0m \u001b[43mtorch\u001b[49m\u001b[38;5;241;43m.\u001b[39;49m\u001b[43msave\u001b[49m\u001b[43m(\u001b[49m\u001b[43mY_tensor\u001b[49m\u001b[43m,\u001b[49m\u001b[43m \u001b[49m\u001b[43mtensor_path\u001b[49m\u001b[43m)\u001b[49m\n\u001b[1;32m      6\u001b[0m tensor_path \u001b[38;5;241m=\u001b[39m os\u001b[38;5;241m.\u001b[39mpath\u001b[38;5;241m.\u001b[39mjoin(notebook_dir, \u001b[38;5;124m'\u001b[39m\u001b[38;5;124mE_10k.pt\u001b[39m\u001b[38;5;124m'\u001b[39m)\n\u001b[1;32m      7\u001b[0m torch\u001b[38;5;241m.\u001b[39msave(torch\u001b[38;5;241m.\u001b[39mtensor(E), tensor_path)\n",
      "File \u001b[0;32m/opt/miniconda3/envs/pyro_env/lib/python3.9/site-packages/torch/serialization.py:849\u001b[0m, in \u001b[0;36msave\u001b[0;34m(obj, f, pickle_module, pickle_protocol, _use_new_zipfile_serialization, _disable_byteorder_record)\u001b[0m\n\u001b[1;32m    846\u001b[0m _check_save_filelike(f)\n\u001b[1;32m    848\u001b[0m \u001b[38;5;28;01mif\u001b[39;00m _use_new_zipfile_serialization:\n\u001b[0;32m--> 849\u001b[0m     \u001b[38;5;28;01mwith\u001b[39;00m \u001b[43m_open_zipfile_writer\u001b[49m\u001b[43m(\u001b[49m\u001b[43mf\u001b[49m\u001b[43m)\u001b[49m \u001b[38;5;28;01mas\u001b[39;00m opened_zipfile:\n\u001b[1;32m    850\u001b[0m         _save(\n\u001b[1;32m    851\u001b[0m             obj,\n\u001b[1;32m    852\u001b[0m             opened_zipfile,\n\u001b[0;32m   (...)\u001b[0m\n\u001b[1;32m    855\u001b[0m             _disable_byteorder_record,\n\u001b[1;32m    856\u001b[0m         )\n\u001b[1;32m    857\u001b[0m         \u001b[38;5;28;01mreturn\u001b[39;00m\n",
      "File \u001b[0;32m/opt/miniconda3/envs/pyro_env/lib/python3.9/site-packages/torch/serialization.py:716\u001b[0m, in \u001b[0;36m_open_zipfile_writer\u001b[0;34m(name_or_buffer)\u001b[0m\n\u001b[1;32m    714\u001b[0m \u001b[38;5;28;01melse\u001b[39;00m:\n\u001b[1;32m    715\u001b[0m     container \u001b[38;5;241m=\u001b[39m _open_zipfile_writer_buffer\n\u001b[0;32m--> 716\u001b[0m \u001b[38;5;28;01mreturn\u001b[39;00m \u001b[43mcontainer\u001b[49m\u001b[43m(\u001b[49m\u001b[43mname_or_buffer\u001b[49m\u001b[43m)\u001b[49m\n",
      "File \u001b[0;32m/opt/miniconda3/envs/pyro_env/lib/python3.9/site-packages/torch/serialization.py:687\u001b[0m, in \u001b[0;36m_open_zipfile_writer_file.__init__\u001b[0;34m(self, name)\u001b[0m\n\u001b[1;32m    685\u001b[0m     \u001b[38;5;28msuper\u001b[39m()\u001b[38;5;241m.\u001b[39m\u001b[38;5;21m__init__\u001b[39m(torch\u001b[38;5;241m.\u001b[39m_C\u001b[38;5;241m.\u001b[39mPyTorchFileWriter(\u001b[38;5;28mself\u001b[39m\u001b[38;5;241m.\u001b[39mfile_stream))\n\u001b[1;32m    686\u001b[0m \u001b[38;5;28;01melse\u001b[39;00m:\n\u001b[0;32m--> 687\u001b[0m     \u001b[38;5;28msuper\u001b[39m()\u001b[38;5;241m.\u001b[39m\u001b[38;5;21m__init__\u001b[39m(\u001b[43mtorch\u001b[49m\u001b[38;5;241;43m.\u001b[39;49m\u001b[43m_C\u001b[49m\u001b[38;5;241;43m.\u001b[39;49m\u001b[43mPyTorchFileWriter\u001b[49m\u001b[43m(\u001b[49m\u001b[38;5;28;43mself\u001b[39;49m\u001b[38;5;241;43m.\u001b[39;49m\u001b[43mname\u001b[49m\u001b[43m)\u001b[49m)\n",
      "\u001b[0;31mRuntimeError\u001b[0m: File /Y_10k.pt cannot be opened."
     ]
    }
   ],
   "source": [
    "# Save tensors\n",
    "notebook_dir = os.getcwd()\n",
    "tensor_path = os.path.join(notebook_dir, 'Y_10k.pt')\n",
    "torch.save(Y_tensor, tensor_path)\n",
    "\n",
    "tensor_path = os.path.join(notebook_dir, 'E_10k.pt')\n",
    "torch.save(torch.tensor(E), tensor_path)\n",
    "\n",
    "tensor_path = os.path.join(notebook_dir, 'G_10k.pt')\n",
    "torch.save(torch.tensor(G), tensor_path)\n"
   ]
  },
  {
   "cell_type": "code",
   "execution_count": null,
   "metadata": {},
   "outputs": [],
   "source": [
    "\n",
    "# Save the disease names and PRS names as regular Python lists\n",
    "import pickle\n",
    "with open('disease_names.pkl', 'wb') as f:\n",
    "    pickle.dump(disease_names_list, f)"
   ]
  }
 ],
 "metadata": {
  "kernelspec": {
   "display_name": "pyro_env",
   "language": "python",
   "name": "python3"
  },
  "language_info": {
   "codemirror_mode": {
    "name": "ipython",
    "version": 3
   },
   "file_extension": ".py",
   "mimetype": "text/x-python",
   "name": "python",
   "nbconvert_exporter": "python",
   "pygments_lexer": "ipython3",
   "version": "3.9.19"
  }
 },
 "nbformat": 4,
 "nbformat_minor": 2
}
