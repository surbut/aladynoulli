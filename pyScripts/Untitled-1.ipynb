{
 "cells": [
  {
   "cell_type": "code",
   "execution_count": 1,
   "metadata": {},
   "outputs": [
    {
     "name": "stdout",
     "output_type": "stream",
     "text": [
      "Y shape: (9661, 348, 51)\n",
      "E shape: (9661, 348)\n",
      "G shape: (36, 9661)\n",
      "G shape after transposition: (9661, 36)\n",
      "G first elements of first individual after transposition: [-0.09865071 -0.61293518 -0.71439616 -0.49112834  0.4647725 ]\n"
     ]
    },
    {
     "ename": "NameError",
     "evalue": "name 'Y_tensor' is not defined",
     "output_type": "error",
     "traceback": [
      "\u001b[0;31m---------------------------------------------------------------------------\u001b[0m",
      "\u001b[0;31mNameError\u001b[0m                                 Traceback (most recent call last)",
      "Cell \u001b[0;32mIn[1], line 33\u001b[0m\n\u001b[1;32m     30\u001b[0m \u001b[38;5;28mprint\u001b[39m(\u001b[38;5;124m\"\u001b[39m\u001b[38;5;124mG first elements of first individual after transposition:\u001b[39m\u001b[38;5;124m\"\u001b[39m, G[\u001b[38;5;241m0\u001b[39m, :\u001b[38;5;241m5\u001b[39m])\n\u001b[1;32m     32\u001b[0m \u001b[38;5;66;03m# Get dimensions\u001b[39;00m\n\u001b[0;32m---> 33\u001b[0m N, D, T \u001b[38;5;241m=\u001b[39m \u001b[43mY_tensor\u001b[49m\u001b[38;5;241m.\u001b[39mshape\n\u001b[1;32m     34\u001b[0m P \u001b[38;5;241m=\u001b[39m G_tensor\u001b[38;5;241m.\u001b[39mshape[\u001b[38;5;241m1\u001b[39m]\n\u001b[1;32m     35\u001b[0m T \u001b[38;5;241m=\u001b[39m \u001b[38;5;28mint\u001b[39m(E_tensor\u001b[38;5;241m.\u001b[39mmax() \u001b[38;5;241m+\u001b[39m \u001b[38;5;241m1\u001b[39m)  \u001b[38;5;66;03m# 0-indexed time\u001b[39;00m\n",
      "\u001b[0;31mNameError\u001b[0m: name 'Y_tensor' is not defined"
     ]
    }
   ],
   "source": [
    "import rpy2.robjects as robjects\n",
    "import numpy as np\n",
    "import os as os\n",
    "from rpy2.robjects import numpy2ri\n",
    "import torch\n",
    "import torch.nn as nn\n",
    "import torch.optim as optim\n",
    "import numpy as np\n",
    "from scipy.spatial.distance import pdist, squareform\n",
    "from scipy.special import expit\n",
    "from scipy.stats import multivariate_normal\n",
    "import matplotlib.pyplot as plt\n",
    "# Cell 1: Import the module\n",
    "#from gp_softmax_torch_works_play import *\n",
    "from gp_softmax_torch_works_play_matrprev import *\n",
    "## first softmax version\n",
    "%load_ext autoreload\n",
    "%autoreload 2\n",
    "# Specify the path to your data files\n",
    "data_path = \"/Users/sarahurbut/tensornoulli_ehr_new/data\"\n",
    "\n",
    "# Activate automatic conversion between R and NumPy arrays\n",
    "numpy2ri.activate()\n",
    "\n",
    "# Load data saved as .rds files\n",
    "Y = np.array(robjects.r['readRDS'](os.path.join(data_path, 'Y.rds')))\n",
    "E = np.array(robjects.r['readRDS'](os.path.join(data_path, 'event_for_aladynoulli.rds')))\n",
    "G = np.array(robjects.r['readRDS'](os.path.join(data_path, 'prs.rds')))\n",
    "# Print shapes to verify\n",
    "print(\"Y shape:\", Y.shape)\n",
    "print(\"E shape:\", E.shape)\n",
    "print(\"G shape:\", G.shape)\n",
    "\n",
    "E = E.astype(int)\n",
    "\n",
    "# G should be float64\n",
    "G = G.astype(float)\n",
    "\n",
    "G.shape\n",
    "G = G.T\n",
    "print(\"G shape after transposition:\", G.shape)\n",
    "\n",
    "# Print the first few elements of the first row to verify\n",
    "print(\"G first elements of first individual after transposition:\", G[0, :5])\n",
    "\n",
    "# Get dimensions\n",
    "N, D, T = Y_tensor.shape\n",
    "P = G_tensor.shape[1]\n",
    "T = int(E_tensor.max() + 1)  # 0-indexed time\n",
    "K = 10  # number of topics\n",
    "\n",
    "# Print shapes to verify\n",
    "print(\"Tensor shapes:\")\n",
    "print(f\"Y: {Y_tensor.shape}\")  # [N, D]\n",
    "print(f\"E: {E_tensor.shape}\")  # [N, D]\n",
    "print(f\"G: {G_tensor.shape}\")  # [N, P]\n",
    "print(f\"Time range: 0 to {T-1}\")\n",
    "print(T)\n"
   ]
  }
 ],
 "metadata": {
  "kernelspec": {
   "display_name": "pyro_env",
   "language": "python",
   "name": "python3"
  },
  "language_info": {
   "codemirror_mode": {
    "name": "ipython",
    "version": 3
   },
   "file_extension": ".py",
   "mimetype": "text/x-python",
   "name": "python",
   "nbconvert_exporter": "python",
   "pygments_lexer": "ipython3",
   "version": "3.9.19"
  }
 },
 "nbformat": 4,
 "nbformat_minor": 2
}
