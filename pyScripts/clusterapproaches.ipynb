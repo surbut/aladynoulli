{
 "cells": [
  {
   "cell_type": "markdown",
   "metadata": {},
   "source": [
    "# comparng varimax to spectral clustering"
   ]
  },
  {
   "cell_type": "code",
   "execution_count": 1,
   "metadata": {},
   "outputs": [
    {
     "name": "stdout",
     "output_type": "stream",
     "text": [
      "G shape after transposition: (9661, 36)\n",
      "Tensor shapes:\n",
      "Y: torch.Size([9661, 348, 51])\n",
      "E: torch.Size([9661, 348])\n",
      "G: torch.Size([9661, 36])\n",
      "Time range: 0 to 50\n",
      "51\n",
      "10\n"
     ]
    }
   ],
   "source": [
    "import rpy2.robjects as robjects\n",
    "import numpy as np\n",
    "import os as os\n",
    "from rpy2.robjects import numpy2ri\n",
    "import torch\n",
    "import torch.nn as nn\n",
    "import torch.optim as optim\n",
    "import numpy as np\n",
    "from scipy.spatial.distance import pdist, squareform\n",
    "from scipy.special import expit\n",
    "from scipy.stats import multivariate_normal\n",
    "import matplotlib.pyplot as plt\n",
    "\n",
    "\n",
    "%load_ext autoreload\n",
    "%autoreload 2\n",
    "# Specify the path to your data files\n",
    "data_path = \"/Users/sarahurbut/tensornoulli_ehr_new/data\"\n",
    "\n",
    "# Activate automatic conversion between R and NumPy arrays\n",
    "numpy2ri.activate()# Load data saved as .rds files\n",
    "Y = np.array(robjects.r['readRDS'](os.path.join(data_path, 'Y.rds')))\n",
    "E = np.array(robjects.r['readRDS'](os.path.join(data_path, 'event_for_aladynoulli.rds')))\n",
    "G = np.array(robjects.r['readRDS'](os.path.join(data_path, 'prs.rds')))\n",
    "\n",
    "E = E.astype(int)\n",
    "\n",
    "# G should be float64\n",
    "G = G.astype(float)\n",
    "G.shape\n",
    "G = G.T\n",
    "print(\"G shape after transposition:\", G.shape)\n",
    "\n",
    "# Convert to PyTorch tensors\n",
    "Y_tensor = torch.FloatTensor(Y)\n",
    "E_tensor = torch.FloatTensor(E)\n",
    "G_tensor = torch.FloatTensor(G)\n",
    "\n",
    "# Get dimensions\n",
    "N, D, T = Y_tensor.shape\n",
    "P = G_tensor.shape[1]\n",
    "T = int(E_tensor.max() + 1)  # 0-indexed time\n",
    "K = 10  # number of topics\n",
    "\n",
    "# Print shapes to verify\n",
    "print(\"Tensor shapes:\")\n",
    "print(f\"Y: {Y_tensor.shape}\")  # [N, D]\n",
    "print(f\"E: {E_tensor.shape}\")  # [N, D]\n",
    "print(f\"G: {G_tensor.shape}\")  # [N, P]\n",
    "print(f\"Time range: 0 to {T-1}\")\n",
    "print(T)\n",
    "print(K)\n",
    "\n",
    "\n",
    "import rpy2.robjects as robjects\n",
    "import pandas as pd\n",
    "from rpy2.robjects import pandas2ri\n",
    "pandas2ri.activate()\n",
    "\n",
    "# Load the metadata from R\n",
    "disease_names = pd.DataFrame(robjects.r['readRDS']('/Users/sarahurbut/Dropbox (Personal)/disease_names.rds'))\n",
    "prs_names = pd.DataFrame(robjects.r['readRDS']('/Users/sarahurbut/Dropbox (Personal)/prs_names.rds'))\n"
   ]
  }
 ],
 "metadata": {
  "kernelspec": {
   "display_name": "pyro_env",
   "language": "python",
   "name": "python3"
  },
  "language_info": {
   "codemirror_mode": {
    "name": "ipython",
    "version": 3
   },
   "file_extension": ".py",
   "mimetype": "text/x-python",
   "name": "python",
   "nbconvert_exporter": "python",
   "pygments_lexer": "ipython3",
   "version": "3.9.19"
  }
 },
 "nbformat": 4,
 "nbformat_minor": 2
}
